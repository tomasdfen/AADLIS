{
  "nbformat": 4,
  "nbformat_minor": 0,
  "metadata": {
    "colab": {
      "name": "Pruebas TFG.ipynb",
      "provenance": [],
      "mount_file_id": "1jY8waLs20FWwrFuPuoCVO0FLns2fcQlK",
      "authorship_tag": "ABX9TyMABqF9WB8jOv3uAhLATnRP",
      "include_colab_link": true
    },
    "kernelspec": {
      "display_name": "Python 3",
      "name": "python3"
    }
  },
  "cells": [
    {
      "cell_type": "markdown",
      "metadata": {
        "id": "view-in-github",
        "colab_type": "text"
      },
      "source": [
        "<a href=\"https://colab.research.google.com/github/tomasdfen/AADLIS/blob/main/Pruebas_TFG.ipynb\" target=\"_parent\"><img src=\"https://colab.research.google.com/assets/colab-badge.svg\" alt=\"Open In Colab\"/></a>"
      ]
    },
    {
      "cell_type": "code",
      "metadata": {
        "id": "AlayJdytckf-"
      },
      "source": [
        "import numpy as np\r\n",
        "import pandas as pd\r\n",
        "import matplotlib.pyplot as plt\r\n",
        "\r\n",
        "from tensorflow.keras.layers import Input, Dense, LSTM\r\n",
        "from tensorflow.keras.models import Model\r\n",
        "from tensorflow.keras.callbacks import EarlyStopping\r\n",
        "from sklearn.preprocessing import MinMaxScaler\r\n",
        "\r\n",
        "TEST_PERCENTAGE = 0.2\r\n",
        "VAL_PERCENTAGE = 0.1\r\n",
        "LAG = 15\r\n",
        "PREDICT_WINDOW=20"
      ],
      "execution_count": 47,
      "outputs": []
    },
    {
      "cell_type": "markdown",
      "metadata": {
        "id": "upIzTxly60M4"
      },
      "source": [
        "### Leemos los datos, dandole al indice formato de fecha asociada"
      ]
    },
    {
      "cell_type": "code",
      "metadata": {
        "colab": {
          "base_uri": "https://localhost:8080/",
          "height": 252
        },
        "id": "rqcpXcX5lDNY",
        "outputId": "c7d36d9a-7b49-4ae5-9a8a-165120b00d7a"
      },
      "source": [
        "df = pd.read_excel('/content/drive/MyDrive/Datos.xlsx', parse_dates=True, index_col=0)\r\n",
        "print(df.shape)\r\n",
        "df.head()"
      ],
      "execution_count": 2,
      "outputs": [
        {
          "output_type": "stream",
          "text": [
            "(498318, 24)\n"
          ],
          "name": "stdout"
        },
        {
          "output_type": "execute_result",
          "data": {
            "text/html": [
              "<div>\n",
              "<style scoped>\n",
              "    .dataframe tbody tr th:only-of-type {\n",
              "        vertical-align: middle;\n",
              "    }\n",
              "\n",
              "    .dataframe tbody tr th {\n",
              "        vertical-align: top;\n",
              "    }\n",
              "\n",
              "    .dataframe thead th {\n",
              "        text-align: right;\n",
              "    }\n",
              "</style>\n",
              "<table border=\"1\" class=\"dataframe\">\n",
              "  <thead>\n",
              "    <tr style=\"text-align: right;\">\n",
              "      <th></th>\n",
              "      <th>AFN01</th>\n",
              "      <th>AFN02</th>\n",
              "      <th>AFN03</th>\n",
              "      <th>AFN04</th>\n",
              "      <th>AFN05</th>\n",
              "      <th>AFN06</th>\n",
              "      <th>AFN07</th>\n",
              "      <th>AFN08</th>\n",
              "      <th>AFN09</th>\n",
              "      <th>AFN10</th>\n",
              "      <th>AFN11</th>\n",
              "      <th>AFN12</th>\n",
              "      <th>AFN13</th>\n",
              "      <th>AFN14</th>\n",
              "      <th>AFN15</th>\n",
              "      <th>AFN16</th>\n",
              "      <th>AFN17</th>\n",
              "      <th>AFN18</th>\n",
              "      <th>AFN19</th>\n",
              "      <th>AFN20</th>\n",
              "      <th>AFN21</th>\n",
              "      <th>AFN22</th>\n",
              "      <th>AFN23</th>\n",
              "      <th>AFN24</th>\n",
              "    </tr>\n",
              "    <tr>\n",
              "      <th>Time (hh:mm:ss.ms)</th>\n",
              "      <th></th>\n",
              "      <th></th>\n",
              "      <th></th>\n",
              "      <th></th>\n",
              "      <th></th>\n",
              "      <th></th>\n",
              "      <th></th>\n",
              "      <th></th>\n",
              "      <th></th>\n",
              "      <th></th>\n",
              "      <th></th>\n",
              "      <th></th>\n",
              "      <th></th>\n",
              "      <th></th>\n",
              "      <th></th>\n",
              "      <th></th>\n",
              "      <th></th>\n",
              "      <th></th>\n",
              "      <th></th>\n",
              "      <th></th>\n",
              "      <th></th>\n",
              "      <th></th>\n",
              "      <th></th>\n",
              "      <th></th>\n",
              "    </tr>\n",
              "  </thead>\n",
              "  <tbody>\n",
              "    <tr>\n",
              "      <th>2021-02-17 05:55:00</th>\n",
              "      <td>0</td>\n",
              "      <td>0</td>\n",
              "      <td>0</td>\n",
              "      <td>0</td>\n",
              "      <td>0</td>\n",
              "      <td>0</td>\n",
              "      <td>0</td>\n",
              "      <td>0</td>\n",
              "      <td>0</td>\n",
              "      <td>0</td>\n",
              "      <td>0</td>\n",
              "      <td>0</td>\n",
              "      <td>0</td>\n",
              "      <td>0</td>\n",
              "      <td>0</td>\n",
              "      <td>0</td>\n",
              "      <td>0</td>\n",
              "      <td>0</td>\n",
              "      <td>0</td>\n",
              "      <td>0</td>\n",
              "      <td>0</td>\n",
              "      <td>0</td>\n",
              "      <td>0</td>\n",
              "      <td>0</td>\n",
              "    </tr>\n",
              "    <tr>\n",
              "      <th>2021-02-17 05:56:00</th>\n",
              "      <td>0</td>\n",
              "      <td>0</td>\n",
              "      <td>0</td>\n",
              "      <td>0</td>\n",
              "      <td>0</td>\n",
              "      <td>0</td>\n",
              "      <td>0</td>\n",
              "      <td>0</td>\n",
              "      <td>0</td>\n",
              "      <td>0</td>\n",
              "      <td>0</td>\n",
              "      <td>0</td>\n",
              "      <td>0</td>\n",
              "      <td>0</td>\n",
              "      <td>0</td>\n",
              "      <td>0</td>\n",
              "      <td>0</td>\n",
              "      <td>0</td>\n",
              "      <td>0</td>\n",
              "      <td>0</td>\n",
              "      <td>0</td>\n",
              "      <td>0</td>\n",
              "      <td>0</td>\n",
              "      <td>0</td>\n",
              "    </tr>\n",
              "    <tr>\n",
              "      <th>2021-02-17 05:57:00</th>\n",
              "      <td>0</td>\n",
              "      <td>0</td>\n",
              "      <td>0</td>\n",
              "      <td>0</td>\n",
              "      <td>0</td>\n",
              "      <td>0</td>\n",
              "      <td>0</td>\n",
              "      <td>0</td>\n",
              "      <td>0</td>\n",
              "      <td>0</td>\n",
              "      <td>0</td>\n",
              "      <td>0</td>\n",
              "      <td>0</td>\n",
              "      <td>0</td>\n",
              "      <td>0</td>\n",
              "      <td>0</td>\n",
              "      <td>0</td>\n",
              "      <td>0</td>\n",
              "      <td>0</td>\n",
              "      <td>0</td>\n",
              "      <td>0</td>\n",
              "      <td>0</td>\n",
              "      <td>0</td>\n",
              "      <td>0</td>\n",
              "    </tr>\n",
              "    <tr>\n",
              "      <th>2021-02-17 05:58:00</th>\n",
              "      <td>0</td>\n",
              "      <td>0</td>\n",
              "      <td>0</td>\n",
              "      <td>0</td>\n",
              "      <td>0</td>\n",
              "      <td>0</td>\n",
              "      <td>0</td>\n",
              "      <td>0</td>\n",
              "      <td>0</td>\n",
              "      <td>0</td>\n",
              "      <td>0</td>\n",
              "      <td>0</td>\n",
              "      <td>0</td>\n",
              "      <td>0</td>\n",
              "      <td>0</td>\n",
              "      <td>0</td>\n",
              "      <td>0</td>\n",
              "      <td>0</td>\n",
              "      <td>0</td>\n",
              "      <td>0</td>\n",
              "      <td>0</td>\n",
              "      <td>0</td>\n",
              "      <td>0</td>\n",
              "      <td>0</td>\n",
              "    </tr>\n",
              "    <tr>\n",
              "      <th>2021-02-17 05:59:00</th>\n",
              "      <td>0</td>\n",
              "      <td>0</td>\n",
              "      <td>0</td>\n",
              "      <td>0</td>\n",
              "      <td>0</td>\n",
              "      <td>0</td>\n",
              "      <td>0</td>\n",
              "      <td>0</td>\n",
              "      <td>0</td>\n",
              "      <td>0</td>\n",
              "      <td>0</td>\n",
              "      <td>0</td>\n",
              "      <td>0</td>\n",
              "      <td>0</td>\n",
              "      <td>0</td>\n",
              "      <td>0</td>\n",
              "      <td>0</td>\n",
              "      <td>0</td>\n",
              "      <td>0</td>\n",
              "      <td>0</td>\n",
              "      <td>0</td>\n",
              "      <td>0</td>\n",
              "      <td>0</td>\n",
              "      <td>0</td>\n",
              "    </tr>\n",
              "  </tbody>\n",
              "</table>\n",
              "</div>"
            ],
            "text/plain": [
              "                     AFN01  AFN02  AFN03  AFN04  ...  AFN21  AFN22  AFN23  AFN24\n",
              "Time (hh:mm:ss.ms)                               ...                            \n",
              "2021-02-17 05:55:00      0      0      0      0  ...      0      0      0      0\n",
              "2021-02-17 05:56:00      0      0      0      0  ...      0      0      0      0\n",
              "2021-02-17 05:57:00      0      0      0      0  ...      0      0      0      0\n",
              "2021-02-17 05:58:00      0      0      0      0  ...      0      0      0      0\n",
              "2021-02-17 05:59:00      0      0      0      0  ...      0      0      0      0\n",
              "\n",
              "[5 rows x 24 columns]"
            ]
          },
          "metadata": {
            "tags": []
          },
          "execution_count": 2
        }
      ]
    },
    {
      "cell_type": "markdown",
      "metadata": {
        "id": "M8bH9y1R7CA5"
      },
      "source": [
        "### Dividimos el conjunto de datos en función de la fecha"
      ]
    },
    {
      "cell_type": "code",
      "metadata": {
        "id": "8rJZiCtK6jh5"
      },
      "source": [
        "test_cutoff_date = df.index[int(len(df.index)* (1 - TEST_PERCENTAGE - VAL_PERCENTAGE))]\r\n",
        "val_cutoff_date = df.index[int(len(df.index) * (1 - VAL_PERCENTAGE))]"
      ],
      "execution_count": 3,
      "outputs": []
    },
    {
      "cell_type": "code",
      "metadata": {
        "id": "CpQRnlY36vj6"
      },
      "source": [
        "train = df.loc[:test_cutoff_date]\r\n",
        "test = df.loc[test_cutoff_date:val_cutoff_date]\r\n",
        "val = df.loc[val_cutoff_date:]"
      ],
      "execution_count": 4,
      "outputs": []
    },
    {
      "cell_type": "markdown",
      "metadata": {
        "id": "4yU-ICv17YY_"
      },
      "source": [
        "Mostramos el tamaño de cada conjunto"
      ]
    },
    {
      "cell_type": "code",
      "metadata": {
        "colab": {
          "base_uri": "https://localhost:8080/"
        },
        "id": "WfN7BO5Q7XqM",
        "outputId": "e9b5f604-d121-45a4-9a84-b2100fae9893"
      },
      "source": [
        "print(f\"Tamaño del conjunto de entrenamiento: {train.shape}\")\r\n",
        "print(f\"Tamaño del conjunto de test: {test.shape}\")\r\n",
        "print(f\"Tamaño del conjunto de validación: {val.shape}\")"
      ],
      "execution_count": 5,
      "outputs": [
        {
          "output_type": "stream",
          "text": [
            "Tamaño del conjunto de entrenamiento: (348823, 24)\n",
            "Tamaño del conjunto de test: (99665, 24)\n",
            "Tamaño del conjunto de validación: (49832, 24)\n"
          ],
          "name": "stdout"
        }
      ]
    },
    {
      "cell_type": "code",
      "metadata": {
        "id": "lZedsSjplcBs"
      },
      "source": [
        "def preprocess(dataset: pd.DataFrame, lag : int = 15, predict_window : int = 20):\r\n",
        "    temp = dataset.copy()\r\n",
        "    temp.columns = [\"t\"]\r\n",
        "    for i in range(1,lag):\r\n",
        "        temp.insert(0, f\"t-{i}\", temp[\"t\"].shift(i))\r\n",
        "    temp = temp[lag+predict_window:]\r\n",
        "    columns = temp.columns[:]\r\n",
        "    \r\n",
        "    temp_x = pd.DataFrame(MinMaxScaler().fit_transform(temp.values))\r\n",
        "    temp_x.columns = columns\r\n",
        "\r\n",
        "    temp_y = temp.t\r\n",
        "    return temp_x, temp_y"
      ],
      "execution_count": 8,
      "outputs": []
    },
    {
      "cell_type": "code",
      "metadata": {
        "id": "GBPy1Jsnp9z8"
      },
      "source": [
        "x_train, y_train = preprocess(pd.DataFrame(train.AFN01))"
      ],
      "execution_count": 9,
      "outputs": []
    },
    {
      "cell_type": "code",
      "metadata": {
        "colab": {
          "base_uri": "https://localhost:8080/",
          "height": 419
        },
        "id": "d3ERYRXsvyze",
        "outputId": "4e7741f6-f528-4868-f6df-ef212113ece2"
      },
      "source": [
        "x_train"
      ],
      "execution_count": 10,
      "outputs": [
        {
          "output_type": "execute_result",
          "data": {
            "text/html": [
              "<div>\n",
              "<style scoped>\n",
              "    .dataframe tbody tr th:only-of-type {\n",
              "        vertical-align: middle;\n",
              "    }\n",
              "\n",
              "    .dataframe tbody tr th {\n",
              "        vertical-align: top;\n",
              "    }\n",
              "\n",
              "    .dataframe thead th {\n",
              "        text-align: right;\n",
              "    }\n",
              "</style>\n",
              "<table border=\"1\" class=\"dataframe\">\n",
              "  <thead>\n",
              "    <tr style=\"text-align: right;\">\n",
              "      <th></th>\n",
              "      <th>t-14</th>\n",
              "      <th>t-13</th>\n",
              "      <th>t-12</th>\n",
              "      <th>t-11</th>\n",
              "      <th>t-10</th>\n",
              "      <th>t-9</th>\n",
              "      <th>t-8</th>\n",
              "      <th>t-7</th>\n",
              "      <th>t-6</th>\n",
              "      <th>t-5</th>\n",
              "      <th>t-4</th>\n",
              "      <th>t-3</th>\n",
              "      <th>t-2</th>\n",
              "      <th>t-1</th>\n",
              "      <th>t</th>\n",
              "    </tr>\n",
              "  </thead>\n",
              "  <tbody>\n",
              "    <tr>\n",
              "      <th>0</th>\n",
              "      <td>0.000000</td>\n",
              "      <td>0.000000</td>\n",
              "      <td>0.000000</td>\n",
              "      <td>0.000000</td>\n",
              "      <td>0.000000</td>\n",
              "      <td>0.000000</td>\n",
              "      <td>0.000000</td>\n",
              "      <td>0.000000</td>\n",
              "      <td>0.000000</td>\n",
              "      <td>0.000000</td>\n",
              "      <td>0.000000</td>\n",
              "      <td>0.000000</td>\n",
              "      <td>0.000000</td>\n",
              "      <td>0.000000</td>\n",
              "      <td>0.000000</td>\n",
              "    </tr>\n",
              "    <tr>\n",
              "      <th>1</th>\n",
              "      <td>0.000000</td>\n",
              "      <td>0.000000</td>\n",
              "      <td>0.001022</td>\n",
              "      <td>0.000000</td>\n",
              "      <td>0.001024</td>\n",
              "      <td>0.000000</td>\n",
              "      <td>0.000000</td>\n",
              "      <td>0.001025</td>\n",
              "      <td>0.000000</td>\n",
              "      <td>0.001026</td>\n",
              "      <td>0.000000</td>\n",
              "      <td>0.001027</td>\n",
              "      <td>0.000000</td>\n",
              "      <td>0.000000</td>\n",
              "      <td>0.001028</td>\n",
              "    </tr>\n",
              "    <tr>\n",
              "      <th>2</th>\n",
              "      <td>0.000000</td>\n",
              "      <td>0.001022</td>\n",
              "      <td>0.001022</td>\n",
              "      <td>0.001024</td>\n",
              "      <td>0.001024</td>\n",
              "      <td>0.000000</td>\n",
              "      <td>0.001025</td>\n",
              "      <td>0.001025</td>\n",
              "      <td>0.001026</td>\n",
              "      <td>0.001026</td>\n",
              "      <td>0.001027</td>\n",
              "      <td>0.001027</td>\n",
              "      <td>0.000000</td>\n",
              "      <td>0.001028</td>\n",
              "      <td>0.001028</td>\n",
              "    </tr>\n",
              "    <tr>\n",
              "      <th>3</th>\n",
              "      <td>0.001022</td>\n",
              "      <td>0.001022</td>\n",
              "      <td>0.002045</td>\n",
              "      <td>0.001024</td>\n",
              "      <td>0.001024</td>\n",
              "      <td>0.001025</td>\n",
              "      <td>0.001025</td>\n",
              "      <td>0.002049</td>\n",
              "      <td>0.001026</td>\n",
              "      <td>0.002051</td>\n",
              "      <td>0.001027</td>\n",
              "      <td>0.001027</td>\n",
              "      <td>0.001028</td>\n",
              "      <td>0.001028</td>\n",
              "      <td>0.001028</td>\n",
              "    </tr>\n",
              "    <tr>\n",
              "      <th>4</th>\n",
              "      <td>0.001022</td>\n",
              "      <td>0.002045</td>\n",
              "      <td>0.002045</td>\n",
              "      <td>0.001024</td>\n",
              "      <td>0.002047</td>\n",
              "      <td>0.001025</td>\n",
              "      <td>0.002049</td>\n",
              "      <td>0.002049</td>\n",
              "      <td>0.002051</td>\n",
              "      <td>0.002051</td>\n",
              "      <td>0.001027</td>\n",
              "      <td>0.002053</td>\n",
              "      <td>0.001028</td>\n",
              "      <td>0.001028</td>\n",
              "      <td>0.002055</td>\n",
              "    </tr>\n",
              "    <tr>\n",
              "      <th>...</th>\n",
              "      <td>...</td>\n",
              "      <td>...</td>\n",
              "      <td>...</td>\n",
              "      <td>...</td>\n",
              "      <td>...</td>\n",
              "      <td>...</td>\n",
              "      <td>...</td>\n",
              "      <td>...</td>\n",
              "      <td>...</td>\n",
              "      <td>...</td>\n",
              "      <td>...</td>\n",
              "      <td>...</td>\n",
              "      <td>...</td>\n",
              "      <td>...</td>\n",
              "      <td>...</td>\n",
              "    </tr>\n",
              "    <tr>\n",
              "      <th>348783</th>\n",
              "      <td>0.789366</td>\n",
              "      <td>0.789366</td>\n",
              "      <td>0.789366</td>\n",
              "      <td>0.789150</td>\n",
              "      <td>0.789150</td>\n",
              "      <td>0.788934</td>\n",
              "      <td>0.788934</td>\n",
              "      <td>0.788934</td>\n",
              "      <td>0.793846</td>\n",
              "      <td>0.793846</td>\n",
              "      <td>0.793634</td>\n",
              "      <td>0.793634</td>\n",
              "      <td>0.793422</td>\n",
              "      <td>0.793422</td>\n",
              "      <td>0.793422</td>\n",
              "    </tr>\n",
              "    <tr>\n",
              "      <th>348784</th>\n",
              "      <td>0.789366</td>\n",
              "      <td>0.789366</td>\n",
              "      <td>0.789366</td>\n",
              "      <td>0.789150</td>\n",
              "      <td>0.789150</td>\n",
              "      <td>0.788934</td>\n",
              "      <td>0.788934</td>\n",
              "      <td>0.794057</td>\n",
              "      <td>0.793846</td>\n",
              "      <td>0.793846</td>\n",
              "      <td>0.793634</td>\n",
              "      <td>0.793634</td>\n",
              "      <td>0.793422</td>\n",
              "      <td>0.793422</td>\n",
              "      <td>0.793422</td>\n",
              "    </tr>\n",
              "    <tr>\n",
              "      <th>348785</th>\n",
              "      <td>0.789366</td>\n",
              "      <td>0.789366</td>\n",
              "      <td>0.789366</td>\n",
              "      <td>0.789150</td>\n",
              "      <td>0.789150</td>\n",
              "      <td>0.788934</td>\n",
              "      <td>0.794057</td>\n",
              "      <td>0.794057</td>\n",
              "      <td>0.793846</td>\n",
              "      <td>0.793846</td>\n",
              "      <td>0.793634</td>\n",
              "      <td>0.793634</td>\n",
              "      <td>0.793422</td>\n",
              "      <td>0.793422</td>\n",
              "      <td>0.793422</td>\n",
              "    </tr>\n",
              "    <tr>\n",
              "      <th>348786</th>\n",
              "      <td>0.789366</td>\n",
              "      <td>0.789366</td>\n",
              "      <td>0.789366</td>\n",
              "      <td>0.789150</td>\n",
              "      <td>0.789150</td>\n",
              "      <td>0.794057</td>\n",
              "      <td>0.794057</td>\n",
              "      <td>0.794057</td>\n",
              "      <td>0.793846</td>\n",
              "      <td>0.793846</td>\n",
              "      <td>0.793634</td>\n",
              "      <td>0.793634</td>\n",
              "      <td>0.793422</td>\n",
              "      <td>0.793422</td>\n",
              "      <td>0.793422</td>\n",
              "    </tr>\n",
              "    <tr>\n",
              "      <th>348787</th>\n",
              "      <td>0.789366</td>\n",
              "      <td>0.789366</td>\n",
              "      <td>0.789366</td>\n",
              "      <td>0.789150</td>\n",
              "      <td>0.794268</td>\n",
              "      <td>0.794057</td>\n",
              "      <td>0.794057</td>\n",
              "      <td>0.794057</td>\n",
              "      <td>0.793846</td>\n",
              "      <td>0.793846</td>\n",
              "      <td>0.793634</td>\n",
              "      <td>0.793634</td>\n",
              "      <td>0.793422</td>\n",
              "      <td>0.793422</td>\n",
              "      <td>0.793422</td>\n",
              "    </tr>\n",
              "  </tbody>\n",
              "</table>\n",
              "<p>348788 rows × 15 columns</p>\n",
              "</div>"
            ],
            "text/plain": [
              "            t-14      t-13      t-12  ...       t-2       t-1         t\n",
              "0       0.000000  0.000000  0.000000  ...  0.000000  0.000000  0.000000\n",
              "1       0.000000  0.000000  0.001022  ...  0.000000  0.000000  0.001028\n",
              "2       0.000000  0.001022  0.001022  ...  0.000000  0.001028  0.001028\n",
              "3       0.001022  0.001022  0.002045  ...  0.001028  0.001028  0.001028\n",
              "4       0.001022  0.002045  0.002045  ...  0.001028  0.001028  0.002055\n",
              "...          ...       ...       ...  ...       ...       ...       ...\n",
              "348783  0.789366  0.789366  0.789366  ...  0.793422  0.793422  0.793422\n",
              "348784  0.789366  0.789366  0.789366  ...  0.793422  0.793422  0.793422\n",
              "348785  0.789366  0.789366  0.789366  ...  0.793422  0.793422  0.793422\n",
              "348786  0.789366  0.789366  0.789366  ...  0.793422  0.793422  0.793422\n",
              "348787  0.789366  0.789366  0.789366  ...  0.793422  0.793422  0.793422\n",
              "\n",
              "[348788 rows x 15 columns]"
            ]
          },
          "metadata": {
            "tags": []
          },
          "execution_count": 10
        }
      ]
    },
    {
      "cell_type": "code",
      "metadata": {
        "colab": {
          "base_uri": "https://localhost:8080/"
        },
        "id": "4J-blakiv9zG",
        "outputId": "ac0847d0-95c8-4785-acd3-6c137ed814e5"
      },
      "source": [
        "y_train"
      ],
      "execution_count": 11,
      "outputs": [
        {
          "output_type": "execute_result",
          "data": {
            "text/plain": [
              "Time (hh:mm:ss.ms)\n",
              "2021-02-17 06:30:00.000      8\n",
              "2021-02-17 06:31:00.000      9\n",
              "2021-02-17 06:32:00.000      9\n",
              "2021-02-17 06:33:00.000      9\n",
              "2021-02-17 06:34:00.000     10\n",
              "                          ... \n",
              "2021-02-17 12:42:40.580    780\n",
              "2021-02-17 12:42:40.620    780\n",
              "2021-02-17 12:42:40.700    780\n",
              "2021-02-17 12:42:40.720    780\n",
              "2021-02-17 12:42:40.740    780\n",
              "Name: t, Length: 348788, dtype: int64"
            ]
          },
          "metadata": {
            "tags": []
          },
          "execution_count": 11
        }
      ]
    },
    {
      "cell_type": "code",
      "metadata": {
        "colab": {
          "base_uri": "https://localhost:8080/",
          "height": 492
        },
        "id": "Clb6dWV5wAdv",
        "outputId": "51e69c1e-c94d-4189-8c3f-06a1f6f90ae4"
      },
      "source": [
        "y_train.plot(figsize=(20,8))"
      ],
      "execution_count": 12,
      "outputs": [
        {
          "output_type": "execute_result",
          "data": {
            "text/plain": [
              "<matplotlib.axes._subplots.AxesSubplot at 0x7fbebbc913c8>"
            ]
          },
          "metadata": {
            "tags": []
          },
          "execution_count": 12
        },
        {
          "output_type": "display_data",
          "data": {
            "image/png": "[encoded data removed]",
            "text/plain": [
              "<Figure size 1440x576 with 1 Axes>"
            ]
          },
          "metadata": {
            "tags": [],
            "needs_background": "light"
          }
        }
      ]
    },
    {
      "cell_type": "code",
      "metadata": {
        "id": "4yFHKhdSGJV_"
      },
      "source": [
        "x_val, y_val = preprocess(pd.DataFrame(val.AFN01))"
      ],
      "execution_count": 28,
      "outputs": []
    },
    {
      "cell_type": "code",
      "metadata": {
        "id": "l4cJt4sDGUgE"
      },
      "source": [
        "val_data = (x_val.values.reshape(*x_val.shape, 1), y_val)"
      ],
      "execution_count": 29,
      "outputs": []
    },
    {
      "cell_type": "code",
      "metadata": {
        "id": "DNLUZnjYwPMk"
      },
      "source": [
        "input = Input((LAG,1))\r\n",
        "hidden = LSTM(32, return_sequences=True)(input)\r\n",
        "output = Dense(1, activation='linear')(hidden)\r\n",
        "\r\n",
        "model = Model(input, output)"
      ],
      "execution_count": 58,
      "outputs": []
    },
    {
      "cell_type": "code",
      "metadata": {
        "id": "U-J5zafKxHk2"
      },
      "source": [
        "model.compile(loss=\"mse\", optimizer=\"SGD\", metrics=\"mae\")"
      ],
      "execution_count": 59,
      "outputs": []
    },
    {
      "cell_type": "code",
      "metadata": {
        "colab": {
          "base_uri": "https://localhost:8080/"
        },
        "id": "zKjCAt3wyBwF",
        "outputId": "e8c66d88-1487-49a9-d4c2-5af80dad005c"
      },
      "source": [
        "model.fit(x=x_train.values.reshape(*x_train.shape, 1), y=y_train,epochs=2, validation_data=val_data)"
      ],
      "execution_count": 60,
      "outputs": [
        {
          "output_type": "stream",
          "text": [
            "Epoch 1/2\n",
            "10900/10900 [==============================] - 79s 7ms/step - loss: 12545.4270 - mae: 66.2441 - val_loss: 4704.4600 - val_mae: 57.8012\n",
            "Epoch 2/2\n",
            "10900/10900 [==============================] - 77s 7ms/step - loss: 1322.5236 - mae: 26.6016 - val_loss: 4670.0215 - val_mae: 56.3910\n"
          ],
          "name": "stdout"
        },
        {
          "output_type": "execute_result",
          "data": {
            "text/plain": [
              "<tensorflow.python.keras.callbacks.History at 0x7fbeba03a278>"
            ]
          },
          "metadata": {
            "tags": []
          },
          "execution_count": 60
        }
      ]
    },
    {
      "cell_type": "code",
      "metadata": {
        "id": "EH9c9uUqLrng"
      },
      "source": [
        "x_test, y_test = preprocess(pd.DataFrame(test.AFN01))"
      ],
      "execution_count": 61,
      "outputs": []
    },
    {
      "cell_type": "code",
      "metadata": {
        "id": "je3VF9X-ynnq"
      },
      "source": [
        "predicts = model.predict(x=x_test.values.reshape(*x_test.shape, 1))"
      ],
      "execution_count": 62,
      "outputs": []
    },
    {
      "cell_type": "code",
      "metadata": {
        "colab": {
          "base_uri": "https://localhost:8080/",
          "height": 281
        },
        "id": "Nw3IpaPGLpW5",
        "outputId": "587225d2-f25d-4190-cb0e-32006596f45c"
      },
      "source": [
        "predicts = np.mean(predicts, axis=1)\r\n",
        "plt.title('Datos de entrenamiento')\r\n",
        "plt.plot(range(len(y_test)),y_test )\r\n",
        "plt.plot(range(len(predicts)),predicts )\r\n",
        "\r\n",
        "plt.show()"
      ],
      "execution_count": 63,
      "outputs": [
        {
          "output_type": "display_data",
          "data": {
            "image/png": "[encoded data removed]",
            "text/plain": [
              "<Figure size 432x288 with 1 Axes>"
            ]
          },
          "metadata": {
            "tags": [],
            "needs_background": "light"
          }
        }
      ]
    },
    {
      "cell_type": "code",
      "metadata": {
        "id": "OwBsg9KDMSML"
      },
      "source": [
        ""
      ],
      "execution_count": null,
      "outputs": []
    }
  ]
}